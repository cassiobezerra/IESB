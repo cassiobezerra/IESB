{
 "cells": [
  {
   "cell_type": "markdown",
   "id": "29f1ac56",
   "metadata": {},
   "source": [
    "# Lista 001 - CASSIO BEZERRA"
   ]
  },
  {
   "cell_type": "markdown",
   "id": "388f58bb",
   "metadata": {},
   "source": [
    "1. Crie uma função que receba uma lista e retorne o inverso da mesma lista.\n",
    "\n",
    "Exemplo: \n",
    "\n",
    "entrada = [1,2,3,4,5,6,7,8,9,10]\n",
    "\n",
    "saída = [10,9,8,7,6,5,4,3,2,1]"
   ]
  },
  {
   "cell_type": "code",
   "execution_count": 13,
   "id": "b0977622",
   "metadata": {},
   "outputs": [
    {
     "data": {
      "text/plain": [
       "[0, 1, 2, 3, 4, 5, 6, 7, 8, 9]"
      ]
     },
     "execution_count": 13,
     "metadata": {},
     "output_type": "execute_result"
    }
   ],
   "source": [
    "lista = [0,1,2,3,4,5,6,7,8,9]\n",
    "lista"
   ]
  },
  {
   "cell_type": "code",
   "execution_count": 32,
   "id": "715e1aee",
   "metadata": {},
   "outputs": [
    {
     "data": {
      "text/plain": [
       "[9, 8, 7, 6, 5, 4, 3, 2, 1, 0]"
      ]
     },
     "execution_count": 32,
     "metadata": {},
     "output_type": "execute_result"
    }
   ],
   "source": [
    "lista[::-1]"
   ]
  },
  {
   "cell_type": "markdown",
   "id": "4f74983e",
   "metadata": {},
   "source": [
    "2. Crie uma função que receba duas listas de strings e retorne a concatenação desta lista a nível de elementos.\n",
    "\n",
    "Exemplo:\n",
    "\n",
    "lista1 = ['Na','Ma','Jo']\n",
    "\n",
    "lista2 = ['sser','ria','ão']\n",
    "\n",
    "saída = ['Nasser','Maria','João']"
   ]
  },
  {
   "cell_type": "code",
   "execution_count": 29,
   "id": "d353bde9",
   "metadata": {},
   "outputs": [],
   "source": [
    "lista1 = ['Ca','Fe','Co','Be']\n",
    "lista2 = ['ssio','lipe','sta','zerra']"
   ]
  },
  {
   "cell_type": "code",
   "execution_count": 30,
   "id": "3e82fd70",
   "metadata": {},
   "outputs": [],
   "source": [
    "listafinal = lista1+lista2"
   ]
  },
  {
   "cell_type": "code",
   "execution_count": 31,
   "id": "b00f5e5f",
   "metadata": {},
   "outputs": [
    {
     "data": {
      "text/plain": [
       "['Ca', 'Fe', 'Co', 'Be', 'ssio', 'lipe', 'sta', 'zerra']"
      ]
     },
     "execution_count": 31,
     "metadata": {},
     "output_type": "execute_result"
    }
   ],
   "source": [
    "listafinal"
   ]
  },
  {
   "cell_type": "markdown",
   "id": "39832334",
   "metadata": {},
   "source": [
    "3. Defina um dicionário com os o estoque de cada alimento abaixo.\n",
    "\n",
    "* banana - 10\n",
    "* maça - 2\n",
    "* uva - 0\n",
    "* beterraba - 11\n",
    "* ovos - 0\n",
    "* bacon - 5\n",
    "* pão integral - 12"
   ]
  },
  {
   "cell_type": "markdown",
   "id": "31b0fd92",
   "metadata": {},
   "source": [
    "3.1 Defina outro dicionário com os preços de cada alimento abaixo.\n",
    "\n",
    "* banana - 2.99\n",
    "* maça - 1.99\n",
    "* uva - 4.56\n",
    "* beterraba - 7.5\n",
    "* ovos - 10\n",
    "* bacon - 12.99\n",
    "* pão integral - 8.38"
   ]
  },
  {
   "cell_type": "markdown",
   "id": "bfd23ac5",
   "metadata": {},
   "source": [
    "3.2 Defina uma função chamada 'comprar_carrinho' que receba uma lista de alimentos e retorne o valor total da compra. Ignore termos ou não o item em estoque. Teste a função."
   ]
  },
  {
   "cell_type": "markdown",
   "id": "ba5180c2",
   "metadata": {},
   "source": [
    "3.3 Altere a função 'comprar_carrinho' para que só sejam computados os valores dos items em estoque. Caso o item da lista esteja em estoque, após somar seu valor ao total da compra diminua o estoque na quantidade necessária. Retorne o valor total da compra e o dicionário de estoque atualizado."
   ]
  },
  {
   "cell_type": "markdown",
   "id": "27146091",
   "metadata": {},
   "source": [
    "4. Crie uma função que recebe uma string devolve a frequência absoluta de cada palavra da string. Antes da contagem, faça um tratamento prévio do texto colocando todas as palavras em letras minúsculas. A função abaixo gera os dados para resolução da questão (não alterar)."
   ]
  },
  {
   "cell_type": "code",
   "execution_count": 35,
   "id": "7afdadab",
   "metadata": {},
   "outputs": [
    {
     "ename": "ModuleNotFoundError",
     "evalue": "No module named 'pandas'",
     "output_type": "error",
     "traceback": [
      "\u001b[1;31m---------------------------------------------------------------------------\u001b[0m",
      "\u001b[1;31mModuleNotFoundError\u001b[0m                       Traceback (most recent call last)",
      "Cell \u001b[1;32mIn[35], line 4\u001b[0m\n\u001b[0;32m      2\u001b[0m \u001b[38;5;28;01mfrom\u001b[39;00m \u001b[38;5;21;01mzipfile\u001b[39;00m \u001b[38;5;28;01mimport\u001b[39;00m ZipFile\n\u001b[0;32m      3\u001b[0m \u001b[38;5;28;01mimport\u001b[39;00m \u001b[38;5;21;01mio\u001b[39;00m\n\u001b[1;32m----> 4\u001b[0m \u001b[38;5;28;01mimport\u001b[39;00m \u001b[38;5;21;01mpandas\u001b[39;00m \u001b[38;5;28;01mas\u001b[39;00m \u001b[38;5;21;01mpd\u001b[39;00m\n\u001b[0;32m      6\u001b[0m \u001b[38;5;28;01mdef\u001b[39;00m \u001b[38;5;21mget_data_questao04\u001b[39m():\n\u001b[0;32m      7\u001b[0m     file_zipped \u001b[38;5;241m=\u001b[39m r\u001b[38;5;241m.\u001b[39mget(\u001b[38;5;124m'\u001b[39m\u001b[38;5;124mhttps://archive.ics.uci.edu/ml/machine-learning-databases/00331/sentiment\u001b[39m\u001b[38;5;132;01m%20la\u001b[39;00m\u001b[38;5;124mbelled\u001b[39m\u001b[38;5;132;01m%20s\u001b[39;00m\u001b[38;5;124mentences.zip\u001b[39m\u001b[38;5;124m'\u001b[39m)\n",
      "\u001b[1;31mModuleNotFoundError\u001b[0m: No module named 'pandas'"
     ]
    }
   ],
   "source": [
    "import requests as r\n",
    "from zipfile import ZipFile\n",
    "import io\n",
    "import pandas as pd\n",
    "\n",
    "def get_data_questao04():\n",
    "    file_zipped = r.get('https://archive.ics.uci.edu/ml/machine-learning-databases/00331/sentiment%20labelled%20sentences.zip')\n",
    "    z = ZipFile(io.BytesIO(file_zipped.content))\n",
    "    z.extractall(\"\")\n",
    "\n",
    "    return ' '.join(pd.read_csv('sentiment labelled sentences/imdb_labelled.txt',sep='\\t',names=['texto','class']).texto.values)\n",
    "\n",
    "texto_para_a_questao = get_data_questao04()"
   ]
  },
  {
   "cell_type": "code",
   "execution_count": null,
   "id": "a84e417e",
   "metadata": {},
   "outputs": [],
   "source": []
  }
 ],
 "metadata": {
  "kernelspec": {
   "display_name": "Python 3 (ipykernel)",
   "language": "python",
   "name": "python3"
  },
  "language_info": {
   "codemirror_mode": {
    "name": "ipython",
    "version": 3
   },
   "file_extension": ".py",
   "mimetype": "text/x-python",
   "name": "python",
   "nbconvert_exporter": "python",
   "pygments_lexer": "ipython3",
   "version": "3.11.4"
  }
 },
 "nbformat": 4,
 "nbformat_minor": 5
}
