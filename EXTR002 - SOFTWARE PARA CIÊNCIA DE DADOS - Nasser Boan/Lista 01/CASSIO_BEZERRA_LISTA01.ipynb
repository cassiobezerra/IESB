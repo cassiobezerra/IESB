{
 "cells": [
  {
   "cell_type": "markdown",
   "id": "ce29f768",
   "metadata": {},
   "source": [
    "# Lista 001 - CASSIO BEZERRA"
   ]
  },
  {
   "cell_type": "markdown",
   "id": "139ee15b",
   "metadata": {},
   "source": [
    "## 1. Crie uma função que receba uma lista e retorne o inverso da mesma lista.\n",
    "\n",
    "Exemplo: \n",
    "\n",
    "entrada = [1,2,3,4,5,6,7,8,9,10]\n",
    "\n",
    "saída = [10,9,8,7,6,5,4,3,2,1]"
   ]
  },
  {
   "cell_type": "code",
   "execution_count": 54,
   "id": "71be4578",
   "metadata": {},
   "outputs": [
    {
     "data": {
      "text/plain": [
       "[0, 1, 2, 3, 4, 5, 6, 7, 8, 9]"
      ]
     },
     "execution_count": 54,
     "metadata": {},
     "output_type": "execute_result"
    }
   ],
   "source": [
    "lista = [0,1,2,3,4,5,6,7,8,9]\n",
    "lista"
   ]
  },
  {
   "cell_type": "code",
   "execution_count": 55,
   "id": "5e729a4b",
   "metadata": {},
   "outputs": [
    {
     "data": {
      "text/plain": [
       "[9, 8, 7, 6, 5, 4, 3, 2, 1, 0]"
      ]
     },
     "execution_count": 55,
     "metadata": {},
     "output_type": "execute_result"
    }
   ],
   "source": [
    "lista.reverse()\n",
    "lista"
   ]
  },
  {
   "cell_type": "code",
   "execution_count": 40,
   "id": "d925126f",
   "metadata": {},
   "outputs": [],
   "source": [
    "def listainversa(lista):\n",
    "    lista_inversa = lista[::-1]\n",
    "    return lista_inversa"
   ]
  },
  {
   "cell_type": "code",
   "execution_count": 52,
   "id": "0b70e01a",
   "metadata": {},
   "outputs": [],
   "source": [
    "def listainversa(lista):\n",
    "    lista.reverse()"
   ]
  },
  {
   "cell_type": "code",
   "execution_count": 53,
   "id": "73045447",
   "metadata": {},
   "outputs": [
    {
     "data": {
      "text/plain": [
       "[9, 8, 7, 6, 5, 4, 3, 2, 1, 0]"
      ]
     },
     "execution_count": 53,
     "metadata": {},
     "output_type": "execute_result"
    }
   ],
   "source": [
    "listainversa(lista)\n",
    "lista"
   ]
  },
  {
   "cell_type": "markdown",
   "id": "2676bc1b",
   "metadata": {},
   "source": [
    "## 2. Crie uma função que receba duas listas de strings e retorne a concatenação desta lista a nível de elementos.\n",
    "\n",
    "Exemplo:\n",
    "\n",
    "lista1 = ['Na','Ma','Jo']\n",
    "\n",
    "lista2 = ['sser','ria','ão']\n",
    "\n",
    "saída = ['Nasser','Maria','João']"
   ]
  },
  {
   "cell_type": "code",
   "execution_count": 11,
   "id": "0ecb7592",
   "metadata": {},
   "outputs": [],
   "source": [
    "lista1 = ['Ca','Fe','Co','Be']\n",
    "lista2 = ['ssio','lipe','sta','zerra']"
   ]
  },
  {
   "cell_type": "code",
   "execution_count": 20,
   "id": "d64ca374",
   "metadata": {},
   "outputs": [
    {
     "name": "stdout",
     "output_type": "stream",
     "text": [
      "['Ca', 'Fe', 'Co', 'Be']\n",
      "['Ca', 'Fe', 'Co', 'Be']\n",
      "['Ca', 'Fe', 'Co', 'Be']\n",
      "['Ca', 'Fe', 'Co', 'Be']\n"
     ]
    }
   ],
   "source": [
    "for i in lista1:\n",
    "  print(lista1)"
   ]
  },
  {
   "cell_type": "code",
   "execution_count": 14,
   "id": "113d7155",
   "metadata": {},
   "outputs": [],
   "source": [
    "def listaconcatenada(lista1,lista2):\n",
    "    for i in range(len(lista1[i])):\n",
    "        lista_concatenada = lista1[i]+lista2[i]\n",
    "    return lista_concatenada"
   ]
  },
  {
   "cell_type": "code",
   "execution_count": 18,
   "id": "ab69077a",
   "metadata": {},
   "outputs": [
    {
     "ename": "UnboundLocalError",
     "evalue": "cannot access local variable 'i' where it is not associated with a value",
     "output_type": "error",
     "traceback": [
      "\u001b[1;31m---------------------------------------------------------------------------\u001b[0m",
      "\u001b[1;31mUnboundLocalError\u001b[0m                         Traceback (most recent call last)",
      "Cell \u001b[1;32mIn[18], line 1\u001b[0m\n\u001b[1;32m----> 1\u001b[0m listaconcatenada(lista1,lista2)\n",
      "Cell \u001b[1;32mIn[17], line 2\u001b[0m, in \u001b[0;36mlistaconcatenada\u001b[1;34m(lista1, lista2)\u001b[0m\n\u001b[0;32m      1\u001b[0m \u001b[38;5;28;01mdef\u001b[39;00m \u001b[38;5;21mlistaconcatenada\u001b[39m(lista1,lista2):\n\u001b[1;32m----> 2\u001b[0m     \u001b[38;5;28;01mfor\u001b[39;00m i \u001b[38;5;129;01min\u001b[39;00m \u001b[38;5;28mrange\u001b[39m(\u001b[38;5;28mlen\u001b[39m(lista1[i])):\n\u001b[0;32m      3\u001b[0m         \u001b[38;5;28mprint\u001b[39m(lista1)\n",
      "\u001b[1;31mUnboundLocalError\u001b[0m: cannot access local variable 'i' where it is not associated with a value"
     ]
    }
   ],
   "source": [
    "listaconcatenada(lista1,lista2)"
   ]
  },
  {
   "cell_type": "markdown",
   "id": "57d1038c",
   "metadata": {},
   "source": [
    "## 3. Defina um dicionário com os o estoque de cada alimento abaixo.\n",
    "\n",
    "* banana - 10\n",
    "* maça - 2\n",
    "* uva - 0\n",
    "* beterraba - 11\n",
    "* ovos - 0\n",
    "* bacon - 5\n",
    "* pão integral - 12"
   ]
  },
  {
   "cell_type": "code",
   "execution_count": 60,
   "id": "0464e956",
   "metadata": {},
   "outputs": [
    {
     "ename": "TypeError",
     "evalue": "'type' object does not support item assignment",
     "output_type": "error",
     "traceback": [
      "\u001b[1;31m---------------------------------------------------------------------------\u001b[0m",
      "\u001b[1;31mTypeError\u001b[0m                                 Traceback (most recent call last)",
      "\u001b[1;32mC:\\Users\\CASSIO~1.BEZ\\AppData\\Local\\Temp/ipykernel_20868/1044835570.py\u001b[0m in \u001b[0;36m<module>\u001b[1;34m\u001b[0m\n\u001b[1;32m----> 1\u001b[1;33m dict['Estoque'] = {'banana': 10,\n\u001b[0m\u001b[0;32m      2\u001b[0m                     \u001b[1;34m'maça'\u001b[0m\u001b[1;33m:\u001b[0m \u001b[1;36m2\u001b[0m\u001b[1;33m,\u001b[0m\u001b[1;33m\u001b[0m\u001b[1;33m\u001b[0m\u001b[0m\n\u001b[0;32m      3\u001b[0m                     \u001b[1;34m'uva'\u001b[0m\u001b[1;33m:\u001b[0m \u001b[1;36m0\u001b[0m\u001b[1;33m,\u001b[0m\u001b[1;33m\u001b[0m\u001b[1;33m\u001b[0m\u001b[0m\n\u001b[0;32m      4\u001b[0m                     \u001b[1;34m'beterraba'\u001b[0m\u001b[1;33m:\u001b[0m \u001b[1;36m11\u001b[0m\u001b[1;33m,\u001b[0m\u001b[1;33m\u001b[0m\u001b[1;33m\u001b[0m\u001b[0m\n\u001b[0;32m      5\u001b[0m                     \u001b[1;34m'ovos'\u001b[0m\u001b[1;33m:\u001b[0m \u001b[1;36m0\u001b[0m\u001b[1;33m,\u001b[0m\u001b[1;33m\u001b[0m\u001b[1;33m\u001b[0m\u001b[0m\n",
      "\u001b[1;31mTypeError\u001b[0m: 'type' object does not support item assignment"
     ]
    }
   ],
   "source": [
    "dict['Estoque'] = {'banana': 10,\n",
    "                    'maça': 2,\n",
    "                    'uva': 0,\n",
    "                    'beterraba': 11,\n",
    "                    'ovos': 0,\n",
    "                    'bacon': 5,\n",
    "                    'pão integral': 12}\n",
    "dict['Estoque']"
   ]
  },
  {
   "cell_type": "markdown",
   "id": "780f27c1",
   "metadata": {},
   "source": [
    "### 3.1 Defina outro dicionário com os preços de cada alimento abaixo.\n",
    "\n",
    "* banana - 2.99\n",
    "* maça - 1.99\n",
    "* uva - 4.56\n",
    "* beterraba - 7.5\n",
    "* ovos - 10\n",
    "* bacon - 12.99\n",
    "* pão integral - 8.38"
   ]
  },
  {
   "cell_type": "markdown",
   "id": "206e6117",
   "metadata": {},
   "source": [
    "### 3.2 Defina uma função chamada 'comprar_carrinho' que receba uma lista de alimentos e retorne o valor total da compra. Ignore termos ou não o item em estoque. Teste a função."
   ]
  },
  {
   "cell_type": "markdown",
   "id": "35f85898",
   "metadata": {},
   "source": [
    "### 3.3 Altere a função 'comprar_carrinho' para que só sejam computados os valores dos items em estoque. Caso o item da lista esteja em estoque, após somar seu valor ao total da compra diminua o estoque na quantidade necessária. Retorne o valor total da compra e o dicionário de estoque atualizado."
   ]
  },
  {
   "cell_type": "markdown",
   "id": "defdea23",
   "metadata": {},
   "source": [
    "## 4. Crie uma função que recebe uma string devolve a frequência absoluta de cada palavra da string. Antes da contagem, faça um tratamento prévio do texto colocando todas as palavras em letras minúsculas. A função abaixo gera os dados para resolução da questão (não alterar)."
   ]
  },
  {
   "cell_type": "code",
   "execution_count": 62,
   "id": "94e48242",
   "metadata": {},
   "outputs": [],
   "source": [
    "import requests as r\n",
    "from zipfile import ZipFile\n",
    "import io\n",
    "import pandas as pd\n",
    "\n",
    "def get_data_questao04():\n",
    "    file_zipped = r.get('https://archive.ics.uci.edu/ml/machine-learning-databases/00331/sentiment%20labelled%20sentences.zip')\n",
    "    z = ZipFile(io.BytesIO(file_zipped.content))\n",
    "    z.extractall(\"\")\n",
    "\n",
    "    return ' '.join(pd.read_csv('sentiment labelled sentences/imdb_labelled.txt',sep='\\t',names=['texto','class']).texto.values)\n",
    "\n",
    "texto_para_a_questao = get_data_questao04()"
   ]
  },
  {
   "cell_type": "code",
   "execution_count": null,
   "id": "31aa502d",
   "metadata": {},
   "outputs": [],
   "source": []
  }
 ],
 "metadata": {
  "kernelspec": {
   "display_name": "Python 3 (ipykernel)",
   "language": "python",
   "name": "python3"
  },
  "language_info": {
   "codemirror_mode": {
    "name": "ipython",
    "version": 3
   },
   "file_extension": ".py",
   "mimetype": "text/x-python",
   "name": "python",
   "nbconvert_exporter": "python",
   "pygments_lexer": "ipython3",
   "version": "3.9.7"
  }
 },
 "nbformat": 4,
 "nbformat_minor": 5
}
